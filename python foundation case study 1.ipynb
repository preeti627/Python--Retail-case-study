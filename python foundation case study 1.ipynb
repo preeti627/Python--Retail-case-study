{
 "cells": [
  {
   "cell_type": "markdown",
   "id": "c9a1c3cc",
   "metadata": {},
   "source": [
    " # RETAIL CASE STUDY - PROJECT 1"
   ]
  },
  {
   "cell_type": "code",
   "execution_count": 154,
   "id": "322affd4",
   "metadata": {},
   "outputs": [],
   "source": [
    "import numpy as np\n",
    "import pandas as pd\n",
    "import datetime as dt\n",
    "import matplotlib.pyplot as plt\n",
    "import seaborn as sns"
   ]
  },
  {
   "cell_type": "markdown",
   "id": "3d48e4fe",
   "metadata": {},
   "source": [
    "## Q1. Merge the datasets Customers, Product Hierarchy and Transactions as Customer_Final. Ensure to\n",
    "keep all customers who have done transactions with us and select the join type accordingly "
   ]
  },
  {
   "cell_type": "code",
   "execution_count": 110,
   "id": "8d10fa02",
   "metadata": {},
   "outputs": [],
   "source": [
    "#first we'll import all three sheets\n",
    "cust= pd.read_csv(r\"C:\\Users\\preet\\Downloads\\Python Foundation Case Study 1 - Retail Case Study\\Customer.csv\")\n",
    "product= pd.read_csv(r\"C:\\Users\\preet\\Downloads\\Python Foundation Case Study 1 - Retail Case Study\\prod_cat_info.csv\")\n",
    "transaction= pd.read_csv(r\"C:\\Users\\preet\\Downloads\\Python Foundation Case Study 1 - Retail Case Study\\Transactions.csv\")\n",
    " # renaming the product column name prod subcat code to make it same\n",
    "    \n",
    "product.rename(columns= {'prod_sub_cat_code': 'prod_subcat_code'}, inplace= True)\n"
   ]
  },
  {
   "cell_type": "code",
   "execution_count": 111,
   "id": "86375490",
   "metadata": {},
   "outputs": [
    {
     "data": {
      "text/html": [
       "<div>\n",
       "<style scoped>\n",
       "    .dataframe tbody tr th:only-of-type {\n",
       "        vertical-align: middle;\n",
       "    }\n",
       "\n",
       "    .dataframe tbody tr th {\n",
       "        vertical-align: top;\n",
       "    }\n",
       "\n",
       "    .dataframe thead th {\n",
       "        text-align: right;\n",
       "    }\n",
       "</style>\n",
       "<table border=\"1\" class=\"dataframe\">\n",
       "  <thead>\n",
       "    <tr style=\"text-align: right;\">\n",
       "      <th></th>\n",
       "      <th>transaction_id</th>\n",
       "      <th>cust_id</th>\n",
       "      <th>tran_date</th>\n",
       "      <th>prod_subcat_code</th>\n",
       "      <th>prod_cat_code</th>\n",
       "      <th>Qty</th>\n",
       "      <th>Rate</th>\n",
       "      <th>Tax</th>\n",
       "      <th>total_amt</th>\n",
       "      <th>Store_type</th>\n",
       "      <th>customer_Id</th>\n",
       "      <th>DOB</th>\n",
       "      <th>Gender</th>\n",
       "      <th>city_code</th>\n",
       "      <th>prod_cat</th>\n",
       "      <th>prod_subcat</th>\n",
       "    </tr>\n",
       "  </thead>\n",
       "  <tbody>\n",
       "    <tr>\n",
       "      <th>0</th>\n",
       "      <td>80712190438</td>\n",
       "      <td>270351</td>\n",
       "      <td>28-02-2014</td>\n",
       "      <td>1</td>\n",
       "      <td>1</td>\n",
       "      <td>-5</td>\n",
       "      <td>-772</td>\n",
       "      <td>405.300</td>\n",
       "      <td>-4265.300</td>\n",
       "      <td>e-Shop</td>\n",
       "      <td>270351</td>\n",
       "      <td>26-09-1981</td>\n",
       "      <td>M</td>\n",
       "      <td>5.0</td>\n",
       "      <td>Clothing</td>\n",
       "      <td>Women</td>\n",
       "    </tr>\n",
       "    <tr>\n",
       "      <th>1</th>\n",
       "      <td>80712190438</td>\n",
       "      <td>270351</td>\n",
       "      <td>20-02-2014</td>\n",
       "      <td>1</td>\n",
       "      <td>1</td>\n",
       "      <td>5</td>\n",
       "      <td>772</td>\n",
       "      <td>405.300</td>\n",
       "      <td>4265.300</td>\n",
       "      <td>e-Shop</td>\n",
       "      <td>270351</td>\n",
       "      <td>26-09-1981</td>\n",
       "      <td>M</td>\n",
       "      <td>5.0</td>\n",
       "      <td>Clothing</td>\n",
       "      <td>Women</td>\n",
       "    </tr>\n",
       "    <tr>\n",
       "      <th>2</th>\n",
       "      <td>18505840838</td>\n",
       "      <td>271509</td>\n",
       "      <td>16-12-2013</td>\n",
       "      <td>1</td>\n",
       "      <td>1</td>\n",
       "      <td>3</td>\n",
       "      <td>1229</td>\n",
       "      <td>387.135</td>\n",
       "      <td>4074.135</td>\n",
       "      <td>Flagship store</td>\n",
       "      <td>271509</td>\n",
       "      <td>08-06-1981</td>\n",
       "      <td>M</td>\n",
       "      <td>3.0</td>\n",
       "      <td>Clothing</td>\n",
       "      <td>Women</td>\n",
       "    </tr>\n",
       "    <tr>\n",
       "      <th>3</th>\n",
       "      <td>92814475704</td>\n",
       "      <td>267750</td>\n",
       "      <td>16-08-2013</td>\n",
       "      <td>1</td>\n",
       "      <td>1</td>\n",
       "      <td>-4</td>\n",
       "      <td>-284</td>\n",
       "      <td>119.280</td>\n",
       "      <td>-1255.280</td>\n",
       "      <td>Flagship store</td>\n",
       "      <td>267750</td>\n",
       "      <td>13-10-1986</td>\n",
       "      <td>M</td>\n",
       "      <td>1.0</td>\n",
       "      <td>Clothing</td>\n",
       "      <td>Women</td>\n",
       "    </tr>\n",
       "    <tr>\n",
       "      <th>4</th>\n",
       "      <td>92814475704</td>\n",
       "      <td>267750</td>\n",
       "      <td>7/8/2013</td>\n",
       "      <td>1</td>\n",
       "      <td>1</td>\n",
       "      <td>4</td>\n",
       "      <td>284</td>\n",
       "      <td>119.280</td>\n",
       "      <td>1255.280</td>\n",
       "      <td>Flagship store</td>\n",
       "      <td>267750</td>\n",
       "      <td>13-10-1986</td>\n",
       "      <td>M</td>\n",
       "      <td>1.0</td>\n",
       "      <td>Clothing</td>\n",
       "      <td>Women</td>\n",
       "    </tr>\n",
       "    <tr>\n",
       "      <th>...</th>\n",
       "      <td>...</td>\n",
       "      <td>...</td>\n",
       "      <td>...</td>\n",
       "      <td>...</td>\n",
       "      <td>...</td>\n",
       "      <td>...</td>\n",
       "      <td>...</td>\n",
       "      <td>...</td>\n",
       "      <td>...</td>\n",
       "      <td>...</td>\n",
       "      <td>...</td>\n",
       "      <td>...</td>\n",
       "      <td>...</td>\n",
       "      <td>...</td>\n",
       "      <td>...</td>\n",
       "      <td>...</td>\n",
       "    </tr>\n",
       "    <tr>\n",
       "      <th>23048</th>\n",
       "      <td>7173864364</td>\n",
       "      <td>271157</td>\n",
       "      <td>9/4/2011</td>\n",
       "      <td>4</td>\n",
       "      <td>4</td>\n",
       "      <td>5</td>\n",
       "      <td>788</td>\n",
       "      <td>413.700</td>\n",
       "      <td>4353.700</td>\n",
       "      <td>Flagship store</td>\n",
       "      <td>271157</td>\n",
       "      <td>15-10-1973</td>\n",
       "      <td>F</td>\n",
       "      <td>6.0</td>\n",
       "      <td>Bags</td>\n",
       "      <td>Women</td>\n",
       "    </tr>\n",
       "    <tr>\n",
       "      <th>23049</th>\n",
       "      <td>5618131425</td>\n",
       "      <td>272010</td>\n",
       "      <td>3/3/2011</td>\n",
       "      <td>4</td>\n",
       "      <td>4</td>\n",
       "      <td>2</td>\n",
       "      <td>1150</td>\n",
       "      <td>241.500</td>\n",
       "      <td>2541.500</td>\n",
       "      <td>MBR</td>\n",
       "      <td>272010</td>\n",
       "      <td>22-12-1972</td>\n",
       "      <td>F</td>\n",
       "      <td>5.0</td>\n",
       "      <td>Bags</td>\n",
       "      <td>Women</td>\n",
       "    </tr>\n",
       "    <tr>\n",
       "      <th>23050</th>\n",
       "      <td>18727956164</td>\n",
       "      <td>267161</td>\n",
       "      <td>23-02-2011</td>\n",
       "      <td>4</td>\n",
       "      <td>4</td>\n",
       "      <td>5</td>\n",
       "      <td>668</td>\n",
       "      <td>350.700</td>\n",
       "      <td>3690.700</td>\n",
       "      <td>e-Shop</td>\n",
       "      <td>267161</td>\n",
       "      <td>08-05-1981</td>\n",
       "      <td>M</td>\n",
       "      <td>9.0</td>\n",
       "      <td>Bags</td>\n",
       "      <td>Women</td>\n",
       "    </tr>\n",
       "    <tr>\n",
       "      <th>23051</th>\n",
       "      <td>60416814232</td>\n",
       "      <td>273281</td>\n",
       "      <td>18-02-2011</td>\n",
       "      <td>4</td>\n",
       "      <td>4</td>\n",
       "      <td>4</td>\n",
       "      <td>202</td>\n",
       "      <td>84.840</td>\n",
       "      <td>892.840</td>\n",
       "      <td>Flagship store</td>\n",
       "      <td>273281</td>\n",
       "      <td>14-12-1988</td>\n",
       "      <td>F</td>\n",
       "      <td>9.0</td>\n",
       "      <td>Bags</td>\n",
       "      <td>Women</td>\n",
       "    </tr>\n",
       "    <tr>\n",
       "      <th>23052</th>\n",
       "      <td>83245680995</td>\n",
       "      <td>273723</td>\n",
       "      <td>26-01-2011</td>\n",
       "      <td>4</td>\n",
       "      <td>4</td>\n",
       "      <td>4</td>\n",
       "      <td>1477</td>\n",
       "      <td>620.340</td>\n",
       "      <td>6528.340</td>\n",
       "      <td>e-Shop</td>\n",
       "      <td>273723</td>\n",
       "      <td>21-01-1984</td>\n",
       "      <td>F</td>\n",
       "      <td>4.0</td>\n",
       "      <td>Bags</td>\n",
       "      <td>Women</td>\n",
       "    </tr>\n",
       "  </tbody>\n",
       "</table>\n",
       "<p>23053 rows × 16 columns</p>\n",
       "</div>"
      ],
      "text/plain": [
       "       transaction_id  cust_id   tran_date  prod_subcat_code  prod_cat_code  \\\n",
       "0         80712190438   270351  28-02-2014                 1              1   \n",
       "1         80712190438   270351  20-02-2014                 1              1   \n",
       "2         18505840838   271509  16-12-2013                 1              1   \n",
       "3         92814475704   267750  16-08-2013                 1              1   \n",
       "4         92814475704   267750    7/8/2013                 1              1   \n",
       "...               ...      ...         ...               ...            ...   \n",
       "23048      7173864364   271157    9/4/2011                 4              4   \n",
       "23049      5618131425   272010    3/3/2011                 4              4   \n",
       "23050     18727956164   267161  23-02-2011                 4              4   \n",
       "23051     60416814232   273281  18-02-2011                 4              4   \n",
       "23052     83245680995   273723  26-01-2011                 4              4   \n",
       "\n",
       "       Qty  Rate      Tax  total_amt      Store_type  customer_Id         DOB  \\\n",
       "0       -5  -772  405.300  -4265.300          e-Shop       270351  26-09-1981   \n",
       "1        5   772  405.300   4265.300          e-Shop       270351  26-09-1981   \n",
       "2        3  1229  387.135   4074.135  Flagship store       271509  08-06-1981   \n",
       "3       -4  -284  119.280  -1255.280  Flagship store       267750  13-10-1986   \n",
       "4        4   284  119.280   1255.280  Flagship store       267750  13-10-1986   \n",
       "...    ...   ...      ...        ...             ...          ...         ...   \n",
       "23048    5   788  413.700   4353.700  Flagship store       271157  15-10-1973   \n",
       "23049    2  1150  241.500   2541.500             MBR       272010  22-12-1972   \n",
       "23050    5   668  350.700   3690.700          e-Shop       267161  08-05-1981   \n",
       "23051    4   202   84.840    892.840  Flagship store       273281  14-12-1988   \n",
       "23052    4  1477  620.340   6528.340          e-Shop       273723  21-01-1984   \n",
       "\n",
       "      Gender  city_code  prod_cat prod_subcat  \n",
       "0          M        5.0  Clothing       Women  \n",
       "1          M        5.0  Clothing       Women  \n",
       "2          M        3.0  Clothing       Women  \n",
       "3          M        1.0  Clothing       Women  \n",
       "4          M        1.0  Clothing       Women  \n",
       "...      ...        ...       ...         ...  \n",
       "23048      F        6.0      Bags       Women  \n",
       "23049      F        5.0      Bags       Women  \n",
       "23050      M        9.0      Bags       Women  \n",
       "23051      F        9.0      Bags       Women  \n",
       "23052      F        4.0      Bags       Women  \n",
       "\n",
       "[23053 rows x 16 columns]"
      ]
     },
     "execution_count": 111,
     "metadata": {},
     "output_type": "execute_result"
    }
   ],
   "source": [
    "#merging of data\n",
    "df = pd.merge(left= transaction, right = cust , how= 'inner', left_on='cust_id', right_on='customer_Id')\n",
    "df = pd.merge(left= df, right= product, how='inner' ,on= ['prod_cat_code','prod_subcat_code']) \n",
    "df"
   ]
  },
  {
   "cell_type": "code",
   "execution_count": 112,
   "id": "8e5008b8",
   "metadata": {},
   "outputs": [],
   "source": [
    "#dropping duplicates for further analysis\n",
    "df.drop_duplicates(inplace= True)"
   ]
  },
  {
   "cell_type": "markdown",
   "id": "9aadbcd5",
   "metadata": {},
   "source": [
    "## Q2. Prepare a summary report for the merged data set."
   ]
  },
  {
   "cell_type": "markdown",
   "id": "96a5c634",
   "metadata": {},
   "source": [
    "### a. Get the column names and their corresponding data types"
   ]
  },
  {
   "cell_type": "code",
   "execution_count": 113,
   "id": "32abb809",
   "metadata": {},
   "outputs": [
    {
     "data": {
      "text/plain": [
       "transaction_id        int64\n",
       "cust_id               int64\n",
       "tran_date            object\n",
       "prod_subcat_code      int64\n",
       "prod_cat_code         int64\n",
       "Qty                   int64\n",
       "Rate                  int64\n",
       "Tax                 float64\n",
       "total_amt           float64\n",
       "Store_type           object\n",
       "customer_Id           int64\n",
       "DOB                  object\n",
       "Gender               object\n",
       "city_code           float64\n",
       "prod_cat             object\n",
       "prod_subcat          object\n",
       "dtype: object"
      ]
     },
     "execution_count": 113,
     "metadata": {},
     "output_type": "execute_result"
    }
   ],
   "source": [
    "#column names and their economy\n",
    "df.dtypes"
   ]
  },
  {
   "cell_type": "markdown",
   "id": "399dce82",
   "metadata": {},
   "source": [
    "### b. Top/Bottom 10 observations"
   ]
  },
  {
   "cell_type": "code",
   "execution_count": 114,
   "id": "9d5069a8",
   "metadata": {},
   "outputs": [
    {
     "data": {
      "text/html": [
       "<div>\n",
       "<style scoped>\n",
       "    .dataframe tbody tr th:only-of-type {\n",
       "        vertical-align: middle;\n",
       "    }\n",
       "\n",
       "    .dataframe tbody tr th {\n",
       "        vertical-align: top;\n",
       "    }\n",
       "\n",
       "    .dataframe thead th {\n",
       "        text-align: right;\n",
       "    }\n",
       "</style>\n",
       "<table border=\"1\" class=\"dataframe\">\n",
       "  <thead>\n",
       "    <tr style=\"text-align: right;\">\n",
       "      <th></th>\n",
       "      <th>transaction_id</th>\n",
       "      <th>cust_id</th>\n",
       "      <th>tran_date</th>\n",
       "      <th>prod_subcat_code</th>\n",
       "      <th>prod_cat_code</th>\n",
       "      <th>Qty</th>\n",
       "      <th>Rate</th>\n",
       "      <th>Tax</th>\n",
       "      <th>total_amt</th>\n",
       "      <th>Store_type</th>\n",
       "      <th>customer_Id</th>\n",
       "      <th>DOB</th>\n",
       "      <th>Gender</th>\n",
       "      <th>city_code</th>\n",
       "      <th>prod_cat</th>\n",
       "      <th>prod_subcat</th>\n",
       "    </tr>\n",
       "  </thead>\n",
       "  <tbody>\n",
       "    <tr>\n",
       "      <th>0</th>\n",
       "      <td>80712190438</td>\n",
       "      <td>270351</td>\n",
       "      <td>28-02-2014</td>\n",
       "      <td>1</td>\n",
       "      <td>1</td>\n",
       "      <td>-5</td>\n",
       "      <td>-772</td>\n",
       "      <td>405.300</td>\n",
       "      <td>-4265.300</td>\n",
       "      <td>e-Shop</td>\n",
       "      <td>270351</td>\n",
       "      <td>26-09-1981</td>\n",
       "      <td>M</td>\n",
       "      <td>5.0</td>\n",
       "      <td>Clothing</td>\n",
       "      <td>Women</td>\n",
       "    </tr>\n",
       "    <tr>\n",
       "      <th>1</th>\n",
       "      <td>80712190438</td>\n",
       "      <td>270351</td>\n",
       "      <td>20-02-2014</td>\n",
       "      <td>1</td>\n",
       "      <td>1</td>\n",
       "      <td>5</td>\n",
       "      <td>772</td>\n",
       "      <td>405.300</td>\n",
       "      <td>4265.300</td>\n",
       "      <td>e-Shop</td>\n",
       "      <td>270351</td>\n",
       "      <td>26-09-1981</td>\n",
       "      <td>M</td>\n",
       "      <td>5.0</td>\n",
       "      <td>Clothing</td>\n",
       "      <td>Women</td>\n",
       "    </tr>\n",
       "    <tr>\n",
       "      <th>2</th>\n",
       "      <td>18505840838</td>\n",
       "      <td>271509</td>\n",
       "      <td>16-12-2013</td>\n",
       "      <td>1</td>\n",
       "      <td>1</td>\n",
       "      <td>3</td>\n",
       "      <td>1229</td>\n",
       "      <td>387.135</td>\n",
       "      <td>4074.135</td>\n",
       "      <td>Flagship store</td>\n",
       "      <td>271509</td>\n",
       "      <td>08-06-1981</td>\n",
       "      <td>M</td>\n",
       "      <td>3.0</td>\n",
       "      <td>Clothing</td>\n",
       "      <td>Women</td>\n",
       "    </tr>\n",
       "    <tr>\n",
       "      <th>3</th>\n",
       "      <td>92814475704</td>\n",
       "      <td>267750</td>\n",
       "      <td>16-08-2013</td>\n",
       "      <td>1</td>\n",
       "      <td>1</td>\n",
       "      <td>-4</td>\n",
       "      <td>-284</td>\n",
       "      <td>119.280</td>\n",
       "      <td>-1255.280</td>\n",
       "      <td>Flagship store</td>\n",
       "      <td>267750</td>\n",
       "      <td>13-10-1986</td>\n",
       "      <td>M</td>\n",
       "      <td>1.0</td>\n",
       "      <td>Clothing</td>\n",
       "      <td>Women</td>\n",
       "    </tr>\n",
       "    <tr>\n",
       "      <th>4</th>\n",
       "      <td>92814475704</td>\n",
       "      <td>267750</td>\n",
       "      <td>7/8/2013</td>\n",
       "      <td>1</td>\n",
       "      <td>1</td>\n",
       "      <td>4</td>\n",
       "      <td>284</td>\n",
       "      <td>119.280</td>\n",
       "      <td>1255.280</td>\n",
       "      <td>Flagship store</td>\n",
       "      <td>267750</td>\n",
       "      <td>13-10-1986</td>\n",
       "      <td>M</td>\n",
       "      <td>1.0</td>\n",
       "      <td>Clothing</td>\n",
       "      <td>Women</td>\n",
       "    </tr>\n",
       "    <tr>\n",
       "      <th>5</th>\n",
       "      <td>4737317330</td>\n",
       "      <td>269345</td>\n",
       "      <td>29-07-2011</td>\n",
       "      <td>1</td>\n",
       "      <td>1</td>\n",
       "      <td>5</td>\n",
       "      <td>1141</td>\n",
       "      <td>599.025</td>\n",
       "      <td>6304.025</td>\n",
       "      <td>MBR</td>\n",
       "      <td>269345</td>\n",
       "      <td>26-06-1970</td>\n",
       "      <td>F</td>\n",
       "      <td>10.0</td>\n",
       "      <td>Clothing</td>\n",
       "      <td>Women</td>\n",
       "    </tr>\n",
       "    <tr>\n",
       "      <th>6</th>\n",
       "      <td>44425889101</td>\n",
       "      <td>274987</td>\n",
       "      <td>18-03-2012</td>\n",
       "      <td>1</td>\n",
       "      <td>1</td>\n",
       "      <td>4</td>\n",
       "      <td>897</td>\n",
       "      <td>376.740</td>\n",
       "      <td>3964.740</td>\n",
       "      <td>Flagship store</td>\n",
       "      <td>274987</td>\n",
       "      <td>08-10-1983</td>\n",
       "      <td>M</td>\n",
       "      <td>2.0</td>\n",
       "      <td>Clothing</td>\n",
       "      <td>Women</td>\n",
       "    </tr>\n",
       "    <tr>\n",
       "      <th>7</th>\n",
       "      <td>90501340928</td>\n",
       "      <td>271817</td>\n",
       "      <td>19-02-2012</td>\n",
       "      <td>1</td>\n",
       "      <td>1</td>\n",
       "      <td>1</td>\n",
       "      <td>1122</td>\n",
       "      <td>117.810</td>\n",
       "      <td>1239.810</td>\n",
       "      <td>TeleShop</td>\n",
       "      <td>271817</td>\n",
       "      <td>24-12-1989</td>\n",
       "      <td>M</td>\n",
       "      <td>8.0</td>\n",
       "      <td>Clothing</td>\n",
       "      <td>Women</td>\n",
       "    </tr>\n",
       "    <tr>\n",
       "      <th>8</th>\n",
       "      <td>99335419136</td>\n",
       "      <td>268755</td>\n",
       "      <td>13-12-2012</td>\n",
       "      <td>1</td>\n",
       "      <td>1</td>\n",
       "      <td>3</td>\n",
       "      <td>1181</td>\n",
       "      <td>372.015</td>\n",
       "      <td>3915.015</td>\n",
       "      <td>e-Shop</td>\n",
       "      <td>268755</td>\n",
       "      <td>15-07-1984</td>\n",
       "      <td>F</td>\n",
       "      <td>8.0</td>\n",
       "      <td>Clothing</td>\n",
       "      <td>Women</td>\n",
       "    </tr>\n",
       "    <tr>\n",
       "      <th>9</th>\n",
       "      <td>35030444164</td>\n",
       "      <td>268129</td>\n",
       "      <td>18-11-2011</td>\n",
       "      <td>1</td>\n",
       "      <td>1</td>\n",
       "      <td>5</td>\n",
       "      <td>1047</td>\n",
       "      <td>549.675</td>\n",
       "      <td>5784.675</td>\n",
       "      <td>MBR</td>\n",
       "      <td>268129</td>\n",
       "      <td>07-08-1982</td>\n",
       "      <td>F</td>\n",
       "      <td>9.0</td>\n",
       "      <td>Clothing</td>\n",
       "      <td>Women</td>\n",
       "    </tr>\n",
       "  </tbody>\n",
       "</table>\n",
       "</div>"
      ],
      "text/plain": [
       "   transaction_id  cust_id   tran_date  prod_subcat_code  prod_cat_code  Qty  \\\n",
       "0     80712190438   270351  28-02-2014                 1              1   -5   \n",
       "1     80712190438   270351  20-02-2014                 1              1    5   \n",
       "2     18505840838   271509  16-12-2013                 1              1    3   \n",
       "3     92814475704   267750  16-08-2013                 1              1   -4   \n",
       "4     92814475704   267750    7/8/2013                 1              1    4   \n",
       "5      4737317330   269345  29-07-2011                 1              1    5   \n",
       "6     44425889101   274987  18-03-2012                 1              1    4   \n",
       "7     90501340928   271817  19-02-2012                 1              1    1   \n",
       "8     99335419136   268755  13-12-2012                 1              1    3   \n",
       "9     35030444164   268129  18-11-2011                 1              1    5   \n",
       "\n",
       "   Rate      Tax  total_amt      Store_type  customer_Id         DOB Gender  \\\n",
       "0  -772  405.300  -4265.300          e-Shop       270351  26-09-1981      M   \n",
       "1   772  405.300   4265.300          e-Shop       270351  26-09-1981      M   \n",
       "2  1229  387.135   4074.135  Flagship store       271509  08-06-1981      M   \n",
       "3  -284  119.280  -1255.280  Flagship store       267750  13-10-1986      M   \n",
       "4   284  119.280   1255.280  Flagship store       267750  13-10-1986      M   \n",
       "5  1141  599.025   6304.025             MBR       269345  26-06-1970      F   \n",
       "6   897  376.740   3964.740  Flagship store       274987  08-10-1983      M   \n",
       "7  1122  117.810   1239.810        TeleShop       271817  24-12-1989      M   \n",
       "8  1181  372.015   3915.015          e-Shop       268755  15-07-1984      F   \n",
       "9  1047  549.675   5784.675             MBR       268129  07-08-1982      F   \n",
       "\n",
       "   city_code  prod_cat prod_subcat  \n",
       "0        5.0  Clothing       Women  \n",
       "1        5.0  Clothing       Women  \n",
       "2        3.0  Clothing       Women  \n",
       "3        1.0  Clothing       Women  \n",
       "4        1.0  Clothing       Women  \n",
       "5       10.0  Clothing       Women  \n",
       "6        2.0  Clothing       Women  \n",
       "7        8.0  Clothing       Women  \n",
       "8        8.0  Clothing       Women  \n",
       "9        9.0  Clothing       Women  "
      ]
     },
     "execution_count": 114,
     "metadata": {},
     "output_type": "execute_result"
    }
   ],
   "source": [
    "#for top 10\n",
    "df.head(10)\n"
   ]
  },
  {
   "cell_type": "code",
   "execution_count": 33,
   "id": "1c3aba12",
   "metadata": {},
   "outputs": [
    {
     "data": {
      "text/html": [
       "<div>\n",
       "<style scoped>\n",
       "    .dataframe tbody tr th:only-of-type {\n",
       "        vertical-align: middle;\n",
       "    }\n",
       "\n",
       "    .dataframe tbody tr th {\n",
       "        vertical-align: top;\n",
       "    }\n",
       "\n",
       "    .dataframe thead th {\n",
       "        text-align: right;\n",
       "    }\n",
       "</style>\n",
       "<table border=\"1\" class=\"dataframe\">\n",
       "  <thead>\n",
       "    <tr style=\"text-align: right;\">\n",
       "      <th></th>\n",
       "      <th>transaction_id</th>\n",
       "      <th>cust_id</th>\n",
       "      <th>tran_date</th>\n",
       "      <th>prod_subcat_code</th>\n",
       "      <th>prod_cat_code</th>\n",
       "      <th>Qty</th>\n",
       "      <th>Rate</th>\n",
       "      <th>Tax</th>\n",
       "      <th>total_amt</th>\n",
       "      <th>Store_type</th>\n",
       "      <th>customer_Id</th>\n",
       "      <th>DOB</th>\n",
       "      <th>Gender</th>\n",
       "      <th>city_code</th>\n",
       "      <th>prod_cat</th>\n",
       "      <th>prod_subcat</th>\n",
       "    </tr>\n",
       "  </thead>\n",
       "  <tbody>\n",
       "    <tr>\n",
       "      <th>23043</th>\n",
       "      <td>3387244829</td>\n",
       "      <td>269114</td>\n",
       "      <td>15-07-2011</td>\n",
       "      <td>4</td>\n",
       "      <td>4</td>\n",
       "      <td>1</td>\n",
       "      <td>388</td>\n",
       "      <td>40.740</td>\n",
       "      <td>428.740</td>\n",
       "      <td>e-Shop</td>\n",
       "      <td>269114</td>\n",
       "      <td>22-01-1989</td>\n",
       "      <td>F</td>\n",
       "      <td>5.0</td>\n",
       "      <td>Bags</td>\n",
       "      <td>Women</td>\n",
       "    </tr>\n",
       "    <tr>\n",
       "      <th>23044</th>\n",
       "      <td>76906459516</td>\n",
       "      <td>267940</td>\n",
       "      <td>15-06-2011</td>\n",
       "      <td>4</td>\n",
       "      <td>4</td>\n",
       "      <td>2</td>\n",
       "      <td>1263</td>\n",
       "      <td>265.230</td>\n",
       "      <td>2791.230</td>\n",
       "      <td>Flagship store</td>\n",
       "      <td>267940</td>\n",
       "      <td>09-06-1979</td>\n",
       "      <td>M</td>\n",
       "      <td>9.0</td>\n",
       "      <td>Bags</td>\n",
       "      <td>Women</td>\n",
       "    </tr>\n",
       "    <tr>\n",
       "      <th>23045</th>\n",
       "      <td>73549617163</td>\n",
       "      <td>271334</td>\n",
       "      <td>5/7/2011</td>\n",
       "      <td>4</td>\n",
       "      <td>4</td>\n",
       "      <td>5</td>\n",
       "      <td>263</td>\n",
       "      <td>138.075</td>\n",
       "      <td>1453.075</td>\n",
       "      <td>e-Shop</td>\n",
       "      <td>271334</td>\n",
       "      <td>08-12-1983</td>\n",
       "      <td>F</td>\n",
       "      <td>10.0</td>\n",
       "      <td>Bags</td>\n",
       "      <td>Women</td>\n",
       "    </tr>\n",
       "    <tr>\n",
       "      <th>23046</th>\n",
       "      <td>75339646315</td>\n",
       "      <td>274827</td>\n",
       "      <td>2/5/2011</td>\n",
       "      <td>4</td>\n",
       "      <td>4</td>\n",
       "      <td>4</td>\n",
       "      <td>1381</td>\n",
       "      <td>580.020</td>\n",
       "      <td>6104.020</td>\n",
       "      <td>e-Shop</td>\n",
       "      <td>274827</td>\n",
       "      <td>27-12-1988</td>\n",
       "      <td>F</td>\n",
       "      <td>8.0</td>\n",
       "      <td>Bags</td>\n",
       "      <td>Women</td>\n",
       "    </tr>\n",
       "    <tr>\n",
       "      <th>23047</th>\n",
       "      <td>6650926717</td>\n",
       "      <td>268110</td>\n",
       "      <td>5/4/2011</td>\n",
       "      <td>4</td>\n",
       "      <td>4</td>\n",
       "      <td>4</td>\n",
       "      <td>1036</td>\n",
       "      <td>435.120</td>\n",
       "      <td>4579.120</td>\n",
       "      <td>MBR</td>\n",
       "      <td>268110</td>\n",
       "      <td>06-03-1976</td>\n",
       "      <td>M</td>\n",
       "      <td>2.0</td>\n",
       "      <td>Bags</td>\n",
       "      <td>Women</td>\n",
       "    </tr>\n",
       "    <tr>\n",
       "      <th>23048</th>\n",
       "      <td>7173864364</td>\n",
       "      <td>271157</td>\n",
       "      <td>9/4/2011</td>\n",
       "      <td>4</td>\n",
       "      <td>4</td>\n",
       "      <td>5</td>\n",
       "      <td>788</td>\n",
       "      <td>413.700</td>\n",
       "      <td>4353.700</td>\n",
       "      <td>Flagship store</td>\n",
       "      <td>271157</td>\n",
       "      <td>15-10-1973</td>\n",
       "      <td>F</td>\n",
       "      <td>6.0</td>\n",
       "      <td>Bags</td>\n",
       "      <td>Women</td>\n",
       "    </tr>\n",
       "    <tr>\n",
       "      <th>23049</th>\n",
       "      <td>5618131425</td>\n",
       "      <td>272010</td>\n",
       "      <td>3/3/2011</td>\n",
       "      <td>4</td>\n",
       "      <td>4</td>\n",
       "      <td>2</td>\n",
       "      <td>1150</td>\n",
       "      <td>241.500</td>\n",
       "      <td>2541.500</td>\n",
       "      <td>MBR</td>\n",
       "      <td>272010</td>\n",
       "      <td>22-12-1972</td>\n",
       "      <td>F</td>\n",
       "      <td>5.0</td>\n",
       "      <td>Bags</td>\n",
       "      <td>Women</td>\n",
       "    </tr>\n",
       "    <tr>\n",
       "      <th>23050</th>\n",
       "      <td>18727956164</td>\n",
       "      <td>267161</td>\n",
       "      <td>23-02-2011</td>\n",
       "      <td>4</td>\n",
       "      <td>4</td>\n",
       "      <td>5</td>\n",
       "      <td>668</td>\n",
       "      <td>350.700</td>\n",
       "      <td>3690.700</td>\n",
       "      <td>e-Shop</td>\n",
       "      <td>267161</td>\n",
       "      <td>08-05-1981</td>\n",
       "      <td>M</td>\n",
       "      <td>9.0</td>\n",
       "      <td>Bags</td>\n",
       "      <td>Women</td>\n",
       "    </tr>\n",
       "    <tr>\n",
       "      <th>23051</th>\n",
       "      <td>60416814232</td>\n",
       "      <td>273281</td>\n",
       "      <td>18-02-2011</td>\n",
       "      <td>4</td>\n",
       "      <td>4</td>\n",
       "      <td>4</td>\n",
       "      <td>202</td>\n",
       "      <td>84.840</td>\n",
       "      <td>892.840</td>\n",
       "      <td>Flagship store</td>\n",
       "      <td>273281</td>\n",
       "      <td>14-12-1988</td>\n",
       "      <td>F</td>\n",
       "      <td>9.0</td>\n",
       "      <td>Bags</td>\n",
       "      <td>Women</td>\n",
       "    </tr>\n",
       "    <tr>\n",
       "      <th>23052</th>\n",
       "      <td>83245680995</td>\n",
       "      <td>273723</td>\n",
       "      <td>26-01-2011</td>\n",
       "      <td>4</td>\n",
       "      <td>4</td>\n",
       "      <td>4</td>\n",
       "      <td>1477</td>\n",
       "      <td>620.340</td>\n",
       "      <td>6528.340</td>\n",
       "      <td>e-Shop</td>\n",
       "      <td>273723</td>\n",
       "      <td>21-01-1984</td>\n",
       "      <td>F</td>\n",
       "      <td>4.0</td>\n",
       "      <td>Bags</td>\n",
       "      <td>Women</td>\n",
       "    </tr>\n",
       "  </tbody>\n",
       "</table>\n",
       "</div>"
      ],
      "text/plain": [
       "       transaction_id  cust_id   tran_date  prod_subcat_code  prod_cat_code  \\\n",
       "23043      3387244829   269114  15-07-2011                 4              4   \n",
       "23044     76906459516   267940  15-06-2011                 4              4   \n",
       "23045     73549617163   271334    5/7/2011                 4              4   \n",
       "23046     75339646315   274827    2/5/2011                 4              4   \n",
       "23047      6650926717   268110    5/4/2011                 4              4   \n",
       "23048      7173864364   271157    9/4/2011                 4              4   \n",
       "23049      5618131425   272010    3/3/2011                 4              4   \n",
       "23050     18727956164   267161  23-02-2011                 4              4   \n",
       "23051     60416814232   273281  18-02-2011                 4              4   \n",
       "23052     83245680995   273723  26-01-2011                 4              4   \n",
       "\n",
       "       Qty  Rate      Tax  total_amt      Store_type  customer_Id         DOB  \\\n",
       "23043    1   388   40.740    428.740          e-Shop       269114  22-01-1989   \n",
       "23044    2  1263  265.230   2791.230  Flagship store       267940  09-06-1979   \n",
       "23045    5   263  138.075   1453.075          e-Shop       271334  08-12-1983   \n",
       "23046    4  1381  580.020   6104.020          e-Shop       274827  27-12-1988   \n",
       "23047    4  1036  435.120   4579.120             MBR       268110  06-03-1976   \n",
       "23048    5   788  413.700   4353.700  Flagship store       271157  15-10-1973   \n",
       "23049    2  1150  241.500   2541.500             MBR       272010  22-12-1972   \n",
       "23050    5   668  350.700   3690.700          e-Shop       267161  08-05-1981   \n",
       "23051    4   202   84.840    892.840  Flagship store       273281  14-12-1988   \n",
       "23052    4  1477  620.340   6528.340          e-Shop       273723  21-01-1984   \n",
       "\n",
       "      Gender  city_code prod_cat prod_subcat  \n",
       "23043      F        5.0     Bags       Women  \n",
       "23044      M        9.0     Bags       Women  \n",
       "23045      F       10.0     Bags       Women  \n",
       "23046      F        8.0     Bags       Women  \n",
       "23047      M        2.0     Bags       Women  \n",
       "23048      F        6.0     Bags       Women  \n",
       "23049      F        5.0     Bags       Women  \n",
       "23050      M        9.0     Bags       Women  \n",
       "23051      F        9.0     Bags       Women  \n",
       "23052      F        4.0     Bags       Women  "
      ]
     },
     "execution_count": 33,
     "metadata": {},
     "output_type": "execute_result"
    }
   ],
   "source": [
    "#for bottom 10\n",
    "df.tail(10)"
   ]
  },
  {
   "cell_type": "markdown",
   "id": "83b2e617",
   "metadata": {},
   "source": [
    "### c. “Five-number summary” for continuous variables (min, Q1, median, Q3 and max)"
   ]
  },
  {
   "cell_type": "code",
   "execution_count": 115,
   "id": "4440b1ad",
   "metadata": {
    "scrolled": true
   },
   "outputs": [
    {
     "data": {
      "text/html": [
       "<div>\n",
       "<style scoped>\n",
       "    .dataframe tbody tr th:only-of-type {\n",
       "        vertical-align: middle;\n",
       "    }\n",
       "\n",
       "    .dataframe tbody tr th {\n",
       "        vertical-align: top;\n",
       "    }\n",
       "\n",
       "    .dataframe thead th {\n",
       "        text-align: right;\n",
       "    }\n",
       "</style>\n",
       "<table border=\"1\" class=\"dataframe\">\n",
       "  <thead>\n",
       "    <tr style=\"text-align: right;\">\n",
       "      <th></th>\n",
       "      <th>Qty</th>\n",
       "      <th>Rate</th>\n",
       "      <th>Tax</th>\n",
       "    </tr>\n",
       "  </thead>\n",
       "  <tbody>\n",
       "    <tr>\n",
       "      <th>min</th>\n",
       "      <td>-5.0</td>\n",
       "      <td>-1499.0</td>\n",
       "      <td>7.3500</td>\n",
       "    </tr>\n",
       "    <tr>\n",
       "      <th>25%</th>\n",
       "      <td>1.0</td>\n",
       "      <td>312.0</td>\n",
       "      <td>98.2800</td>\n",
       "    </tr>\n",
       "    <tr>\n",
       "      <th>50%</th>\n",
       "      <td>3.0</td>\n",
       "      <td>710.0</td>\n",
       "      <td>199.0800</td>\n",
       "    </tr>\n",
       "    <tr>\n",
       "      <th>75%</th>\n",
       "      <td>4.0</td>\n",
       "      <td>1109.0</td>\n",
       "      <td>365.7675</td>\n",
       "    </tr>\n",
       "    <tr>\n",
       "      <th>max</th>\n",
       "      <td>5.0</td>\n",
       "      <td>1500.0</td>\n",
       "      <td>787.5000</td>\n",
       "    </tr>\n",
       "  </tbody>\n",
       "</table>\n",
       "</div>"
      ],
      "text/plain": [
       "     Qty    Rate       Tax\n",
       "min -5.0 -1499.0    7.3500\n",
       "25%  1.0   312.0   98.2800\n",
       "50%  3.0   710.0  199.0800\n",
       "75%  4.0  1109.0  365.7675\n",
       "max  5.0  1500.0  787.5000"
      ]
     },
     "execution_count": 115,
     "metadata": {},
     "output_type": "execute_result"
    }
   ],
   "source": [
    "summary= df.loc[:,['Qty','Rate', 'Tax']].describe()\n",
    "#here 50% is median\n",
    "summary.loc[['min','25%','50%', '75%', 'max']]"
   ]
  },
  {
   "cell_type": "markdown",
   "id": "cfed42b6",
   "metadata": {},
   "source": [
    "## Q2. Frequency tables for all the categorical variables"
   ]
  },
  {
   "cell_type": "code",
   "execution_count": 116,
   "id": "3e409c15",
   "metadata": {},
   "outputs": [
    {
     "data": {
      "text/html": [
       "<div>\n",
       "<style scoped>\n",
       "    .dataframe tbody tr th:only-of-type {\n",
       "        vertical-align: middle;\n",
       "    }\n",
       "\n",
       "    .dataframe tbody tr th {\n",
       "        vertical-align: top;\n",
       "    }\n",
       "\n",
       "    .dataframe thead th {\n",
       "        text-align: right;\n",
       "    }\n",
       "</style>\n",
       "<table border=\"1\" class=\"dataframe\">\n",
       "  <thead>\n",
       "    <tr style=\"text-align: right;\">\n",
       "      <th></th>\n",
       "      <th>tran_date</th>\n",
       "      <th>Store_type</th>\n",
       "      <th>DOB</th>\n",
       "      <th>Gender</th>\n",
       "      <th>prod_cat</th>\n",
       "      <th>prod_subcat</th>\n",
       "    </tr>\n",
       "  </thead>\n",
       "  <tbody>\n",
       "    <tr>\n",
       "      <th>count</th>\n",
       "      <td>23040</td>\n",
       "      <td>23040</td>\n",
       "      <td>23040</td>\n",
       "      <td>23031</td>\n",
       "      <td>23040</td>\n",
       "      <td>23040</td>\n",
       "    </tr>\n",
       "    <tr>\n",
       "      <th>unique</th>\n",
       "      <td>1129</td>\n",
       "      <td>4</td>\n",
       "      <td>3987</td>\n",
       "      <td>2</td>\n",
       "      <td>6</td>\n",
       "      <td>18</td>\n",
       "    </tr>\n",
       "    <tr>\n",
       "      <th>top</th>\n",
       "      <td>13-07-2011</td>\n",
       "      <td>e-Shop</td>\n",
       "      <td>27-12-1988</td>\n",
       "      <td>M</td>\n",
       "      <td>Books</td>\n",
       "      <td>Women</td>\n",
       "    </tr>\n",
       "    <tr>\n",
       "      <th>freq</th>\n",
       "      <td>35</td>\n",
       "      <td>9304</td>\n",
       "      <td>32</td>\n",
       "      <td>11804</td>\n",
       "      <td>6066</td>\n",
       "      <td>3046</td>\n",
       "    </tr>\n",
       "  </tbody>\n",
       "</table>\n",
       "</div>"
      ],
      "text/plain": [
       "         tran_date Store_type         DOB Gender prod_cat prod_subcat\n",
       "count        23040      23040       23040  23031    23040       23040\n",
       "unique        1129          4        3987      2        6          18\n",
       "top     13-07-2011     e-Shop  27-12-1988      M    Books       Women\n",
       "freq            35       9304          32  11804     6066        3046"
      ]
     },
     "execution_count": 116,
     "metadata": {},
     "output_type": "execute_result"
    }
   ],
   "source": [
    "df.loc[:,df.dtypes==\"object\"].describe()"
   ]
  },
  {
   "cell_type": "markdown",
   "id": "7dc0e616",
   "metadata": {},
   "source": [
    "## 3. Generate histograms for all continuous variables and frequency bars for categorical variables."
   ]
  },
  {
   "cell_type": "code",
   "execution_count": 129,
   "id": "911a3bd6",
   "metadata": {
    "scrolled": true
   },
   "outputs": [
    {
     "data": {
      "text/plain": [
       "array([[<AxesSubplot:title={'center':'Qty'}>,\n",
       "        <AxesSubplot:title={'center':'Rate'}>],\n",
       "       [<AxesSubplot:title={'center':'Tax'}>,\n",
       "        <AxesSubplot:title={'center':'total_amt'}>]], dtype=object)"
      ]
     },
     "execution_count": 129,
     "metadata": {},
     "output_type": "execute_result"
    },
    {
     "data": {
      "image/png": "[encoded data removed]",
      "text/plain": [
       "<Figure size 1440x720 with 4 Axes>"
      ]
     },
     "metadata": {
      "needs_background": "light"
     },
     "output_type": "display_data"
    }
   ],
   "source": [
    "#now we'll create histograms\n",
    "#for continuous variables\n",
    "df.hist(column=['Qty', 'Rate', 'Tax', 'total_amt'], figsize= (20,10),legend=True )"
   ]
  },
  {
   "cell_type": "code",
   "execution_count": 158,
   "id": "e8172dc3",
   "metadata": {},
   "outputs": [
    {
     "name": "stderr",
     "output_type": "stream",
     "text": [
      "C:\\Users\\preet\\anaconda3\\lib\\site-packages\\seaborn\\_decorators.py:36: FutureWarning: Pass the following variable as a keyword arg: x. From version 0.12, the only valid positional argument will be `data`, and passing other arguments without an explicit keyword will result in an error or misinterpretation.\n",
      "  warnings.warn(\n"
     ]
    },
    {
     "data": {
      "text/plain": [
       "<AxesSubplot:xlabel='Gender', ylabel='count'>"
      ]
     },
     "execution_count": 158,
     "metadata": {},
     "output_type": "execute_result"
    },
    {
     "data": {
      "image/png": "[encoded data removed]",
      "text/plain": [
       "<Figure size 432x288 with 1 Axes>"
      ]
     },
     "metadata": {
      "needs_background": "light"
     },
     "output_type": "display_data"
    }
   ],
   "source": [
    "#now bar chart on categorical data\n",
    "sns.countplot( df.Gender)"
   ]
  },
  {
   "cell_type": "code",
   "execution_count": 161,
   "id": "5975b0a8",
   "metadata": {},
   "outputs": [
    {
     "name": "stderr",
     "output_type": "stream",
     "text": [
      "C:\\Users\\preet\\anaconda3\\lib\\site-packages\\seaborn\\_decorators.py:36: FutureWarning: Pass the following variable as a keyword arg: x. From version 0.12, the only valid positional argument will be `data`, and passing other arguments without an explicit keyword will result in an error or misinterpretation.\n",
      "  warnings.warn(\n"
     ]
    },
    {
     "data": {
      "text/plain": [
       "<AxesSubplot:xlabel='Store_type', ylabel='count'>"
      ]
     },
     "execution_count": 161,
     "metadata": {},
     "output_type": "execute_result"
    },
    {
     "data": {
      "image/png": "[encoded data removed]",
      "text/plain": [
       "<Figure size 432x288 with 1 Axes>"
      ]
     },
     "metadata": {
      "needs_background": "light"
     },
     "output_type": "display_data"
    }
   ],
   "source": [
    "sns.countplot( df.Store_type)"
   ]
  },
  {
   "cell_type": "code",
   "execution_count": 162,
   "id": "24f00386",
   "metadata": {},
   "outputs": [
    {
     "name": "stderr",
     "output_type": "stream",
     "text": [
      "C:\\Users\\preet\\anaconda3\\lib\\site-packages\\seaborn\\_decorators.py:36: FutureWarning: Pass the following variable as a keyword arg: x. From version 0.12, the only valid positional argument will be `data`, and passing other arguments without an explicit keyword will result in an error or misinterpretation.\n",
      "  warnings.warn(\n"
     ]
    },
    {
     "data": {
      "text/plain": [
       "<AxesSubplot:xlabel='prod_cat', ylabel='count'>"
      ]
     },
     "execution_count": 162,
     "metadata": {},
     "output_type": "execute_result"
    },
    {
     "data": {
      "image/png": "[encoded data removed]",
      "text/plain": [
       "<Figure size 432x288 with 1 Axes>"
      ]
     },
     "metadata": {
      "needs_background": "light"
     },
     "output_type": "display_data"
    }
   ],
   "source": [
    "sns.countplot( df.prod_cat)"
   ]
  },
  {
   "cell_type": "code",
   "execution_count": 170,
   "id": "9e2b5dfc",
   "metadata": {},
   "outputs": [
    {
     "data": {
      "text/plain": [
       "<AxesSubplot:xlabel='count', ylabel='prod_subcat'>"
      ]
     },
     "execution_count": 170,
     "metadata": {},
     "output_type": "execute_result"
    },
    {
     "data": {
      "image/png": "[encoded data removed]",
      "text/plain": [
       "<Figure size 720x504 with 1 Axes>"
      ]
     },
     "metadata": {
      "needs_background": "light"
     },
     "output_type": "display_data"
    }
   ],
   "source": [
    "plt.figure(figsize=(10,7))\n",
    "sns.countplot(y= df.prod_subcat)"
   ]
  },
  {
   "cell_type": "markdown",
   "id": "1a4d8fca",
   "metadata": {},
   "source": [
    "## 4. Calculate the following information using the merga. Time period of the available transaction data"
   ]
  },
  {
   "cell_type": "markdown",
   "id": "8fd40842",
   "metadata": {},
   "source": [
    "### a. Time period of the available transaction data\n"
   ]
  },
  {
   "cell_type": "code",
   "execution_count": 61,
   "id": "153b55b5",
   "metadata": {},
   "outputs": [
    {
     "name": "stdout",
     "output_type": "stream",
     "text": [
      "earliest date:  2011-01-25 00:00:00\n",
      "latest date:  2014-02-28 00:00:00\n",
      "Time period between these two dates are : 3 years\n"
     ]
    }
   ],
   "source": [
    "# first we'll replace / by - to make the format of the dates same\n",
    "df['tran_date']=df['tran_date'].str.replace('/','-', regex=True)\n",
    "#then we'll change the datatype of trans_date and DOB to datetime64 \n",
    "df['tran_date']=pd.to_datetime(df.tran_date, format='%d-%m-%Y')\n",
    "df['DOB']=pd.to_datetime(df.DOB, format='%d-%m-%Y')\n",
    "#time period for available tran_data\n",
    "m= df['tran_date'].min()\n",
    "print(\"earliest date: \", m)\n",
    "n= df['tran_date'].max()\n",
    "print(\"latest date: \",n)\n",
    "o=n.year -m.year\n",
    "print(\"Time period between these two dates are :\", o, \"years\")\n"
   ]
  },
  {
   "cell_type": "markdown",
   "id": "c9568327",
   "metadata": {},
   "source": [
    "### b. Count of transactions where the total amount of transaction was negative"
   ]
  },
  {
   "cell_type": "code",
   "execution_count": 38,
   "id": "d3a4e3fa",
   "metadata": {},
   "outputs": [
    {
     "name": "stdout",
     "output_type": "stream",
     "text": [
      "count of transactions where total amount is negative are  2164\n"
     ]
    }
   ],
   "source": [
    "neg_amt=df.total_amt[(df['total_amt']<0)].count()\n",
    "\n",
    "print('count of transactions where total amount is negative are ', neg_amt)"
   ]
  },
  {
   "cell_type": "markdown",
   "id": "65a83497",
   "metadata": {},
   "source": [
    "## Q5. Analyze which product categories are more popular among females vs male customers."
   ]
  },
  {
   "cell_type": "code",
   "execution_count": 94,
   "id": "c1827f32",
   "metadata": {},
   "outputs": [
    {
     "data": {
      "text/plain": [
       "Gender  prod_cat        \n",
       "F       Bags                2364\n",
       "        Books               7080\n",
       "        Clothing            3425\n",
       "        Electronics         5832\n",
       "        Footwear            3721\n",
       "        Home and kitchen    4898\n",
       "M       Bags                2346\n",
       "        Books               7587\n",
       "        Clothing            3748\n",
       "        Electronics         6486\n",
       "        Footwear            3561\n",
       "        Home and kitchen    5051\n",
       "Name: Qty, dtype: int64"
      ]
     },
     "execution_count": 94,
     "metadata": {},
     "output_type": "execute_result"
    }
   ],
   "source": [
    "df.groupby(by= [ 'Gender','prod_cat']).Qty.sum()\n",
    "\n"
   ]
  },
  {
   "cell_type": "markdown",
   "id": "5ffc4780",
   "metadata": {},
   "source": [
    "#### -- Conclusion : Here we can see that products that are popular in females are Footwear and bags, rest all are popular in males."
   ]
  },
  {
   "cell_type": "markdown",
   "id": "a333d6e7",
   "metadata": {},
   "source": [
    "## Q6. Which City code has the maximum customers and what was the percentage of customers from that city?"
   ]
  },
  {
   "cell_type": "code",
   "execution_count": 40,
   "id": "fa7d7aa2",
   "metadata": {},
   "outputs": [
    {
     "data": {
      "text/plain": [
       "city_code\n",
       "4.0    10.515804\n",
       "Name: cust_id, dtype: float64"
      ]
     },
     "execution_count": 40,
     "metadata": {},
     "output_type": "execute_result"
    }
   ],
   "source": [
    "customers= df.groupby(by = 'city_code').cust_id.count() \n",
    "customers= (df.groupby(by = 'city_code').cust_id.count()/customers.sum()) *100\n",
    "customers.sort_values(ascending=False).head(1)"
   ]
  },
  {
   "cell_type": "markdown",
   "id": "640293de",
   "metadata": {},
   "source": [
    "## Q7. Which store type sells the maximum products by value and by quantity?"
   ]
  },
  {
   "cell_type": "code",
   "execution_count": 41,
   "id": "5e7e1b91",
   "metadata": {},
   "outputs": [
    {
     "data": {
      "text/plain": [
       "Store_type\n",
       "e-Shop    22790\n",
       "Name: Qty, dtype: int64"
      ]
     },
     "execution_count": 41,
     "metadata": {},
     "output_type": "execute_result"
    }
   ],
   "source": [
    "#store type with maximum quantity\n",
    "qtyy=df.groupby(by='Store_type').Qty.sum()\n",
    "qtyy.sort_values(ascending= False).head(1)"
   ]
  },
  {
   "cell_type": "code",
   "execution_count": 42,
   "id": "92575a03",
   "metadata": {},
   "outputs": [
    {
     "data": {
      "text/plain": [
       "Store_type\n",
       "e-Shop    1.984262e+07\n",
       "Name: total_amt, dtype: float64"
      ]
     },
     "execution_count": 42,
     "metadata": {},
     "output_type": "execute_result"
    }
   ],
   "source": [
    "#store type with maximum value\n",
    "amt=df.groupby(by='Store_type').total_amt.sum()\n",
    "amt.sort_values(ascending=False).head(1)"
   ]
  },
  {
   "cell_type": "markdown",
   "id": "837c8add",
   "metadata": {},
   "source": [
    "## Q8. What was the total amount earned from the \"Electronics\" and \"Clothing\" categories from Flagship Stores?"
   ]
  },
  {
   "cell_type": "code",
   "execution_count": 43,
   "id": "ae9b2603",
   "metadata": {},
   "outputs": [
    {
     "name": "stdout",
     "output_type": "stream",
     "text": [
      "total amount earned from the \"Electronics\" and \"Clothing\" categories from Flagship Stores is  3409559.27\n"
     ]
    }
   ],
   "source": [
    "t_amt=df[df.Store_type=='Flagship store' ].groupby(by='prod_cat').total_amt.sum()\n",
    "t_amt=t_amt.loc[['Electronics','Clothing'] ]\n",
    "print('total amount earned from the \"Electronics\" and \"Clothing\" categories from Flagship Stores is ',t_amt.sum() )"
   ]
  },
  {
   "cell_type": "markdown",
   "id": "413ebed3",
   "metadata": {},
   "source": [
    "## Q9. What was the total amount earned from \"Male\" customers under the \"Electronics\" category?"
   ]
  },
  {
   "cell_type": "code",
   "execution_count": 44,
   "id": "4b7df82f",
   "metadata": {},
   "outputs": [
    {
     "name": "stdout",
     "output_type": "stream",
     "text": [
      "total amount earned from 'Male' customers under the 'Electronics' category is  5711351.62\n"
     ]
    }
   ],
   "source": [
    "elec_category= df[df.Gender=='M'].groupby(by= 'prod_cat').total_amt.sum()\n",
    "elec_category= elec_category.loc['Electronics']\n",
    "print(\"total amount earned from 'Male' customers under the 'Electronics' category is \", elec_category)"
   ]
  },
  {
   "cell_type": "markdown",
   "id": "c30e524b",
   "metadata": {},
   "source": [
    "## Q10. How many customers have more than 10 unique transactions, after removing all transactions which have any negative amounts?"
   ]
  },
  {
   "cell_type": "code",
   "execution_count": 45,
   "id": "4615899a",
   "metadata": {},
   "outputs": [
    {
     "name": "stdout",
     "output_type": "stream",
     "text": [
      "customers having more than 10 unique transactions, after removing all transactions are  cust_id    6\n",
      "dtype: int64\n"
     ]
    }
   ],
   "source": [
    "l=df[df.total_amt>0].groupby(by = 'cust_id').cust_id.count()\n",
    "l=pd.DataFrame(l)\n",
    "l=l[l.cust_id>10].count()\n",
    "l= pd.Series(l)\n",
    "print('customers having more than 10 unique transactions, after removing all transactions are ', l)"
   ]
  },
  {
   "cell_type": "markdown",
   "id": "84daa6ed",
   "metadata": {},
   "source": [
    "## Q11. For all customers aged between 25 - 35, find out:\n",
    "### a. What was the total amount spent for “Electronics” and “Books” product categories?"
   ]
  },
  {
   "cell_type": "code",
   "execution_count": 56,
   "id": "95b4973f",
   "metadata": {},
   "outputs": [],
   "source": [
    "# FIRST WE'LL CREATE AN AGE COLUMN AND CALCULATE THE AGE\n",
    "today= pd.Timestamp.now()\n",
    "today.year\n",
    "df['age'] = today.year - df['DOB'].dt.year"
   ]
  },
  {
   "cell_type": "code",
   "execution_count": 84,
   "id": "2f4916c8",
   "metadata": {},
   "outputs": [
    {
     "name": "stdout",
     "output_type": "stream",
     "text": [
      "Total amt spent for “Electronics” and “Books” product categories  for all customers aged between 25 - 35 is 6058458.640000001\n"
     ]
    }
   ],
   "source": [
    "TA= df[(df.age>=25) & (df.age<=35)].groupby(by= 'prod_cat').total_amt.sum()\n",
    "TA= TA.loc[['Electronics','Books']].sum()\n",
    "print(\"Total amt spent for “Electronics” and “Books” product categories \",\n",
    "      \"for all customers aged between 25 - 35 is\" , TA)"
   ]
  },
  {
   "cell_type": "markdown",
   "id": "2cd85e67",
   "metadata": {},
   "source": [
    "### b. What was the total amount spent by these customers between 1st Jan, 2014 to 1st Mar, 2014?\n"
   ]
  },
  {
   "cell_type": "code",
   "execution_count": 91,
   "id": "1ff6a174",
   "metadata": {},
   "outputs": [
    {
     "name": "stdout",
     "output_type": "stream",
     "text": [
      "total amount spent by these customers between 1st Jan, 2014 to 1st Mar, 2014 is 13654.485\n"
     ]
    }
   ],
   "source": [
    "amount= df[(df.age>=25) & (df.age<=35)& (df.tran_date>'01-01-2014')&(df.tran_date<'01-03-2014')].total_amt.sum()\n",
    "print('total amount spent by these customers between 1st Jan, 2014 to 1st Mar, 2014 is', amount)"
   ]
  },
  {
   "cell_type": "code",
   "execution_count": null,
   "id": "20531b9a",
   "metadata": {},
   "outputs": [],
   "source": [
    "\n"
   ]
  },
  {
   "cell_type": "code",
   "execution_count": null,
   "id": "d2b14212",
   "metadata": {},
   "outputs": [],
   "source": []
  },
  {
   "cell_type": "code",
   "execution_count": null,
   "id": "13382116",
   "metadata": {},
   "outputs": [],
   "source": []
  }
 ],
 "metadata": {
  "kernelspec": {
   "display_name": "Python 3 (ipykernel)",
   "language": "python",
   "name": "python3"
  },
  "language_info": {
   "codemirror_mode": {
    "name": "ipython",
    "version": 3
   },
   "file_extension": ".py",
   "mimetype": "text/x-python",
   "name": "python",
   "nbconvert_exporter": "python",
   "pygments_lexer": "ipython3",
   "version": "3.9.12"
  }
 },
 "nbformat": 4,
 "nbformat_minor": 5
}
